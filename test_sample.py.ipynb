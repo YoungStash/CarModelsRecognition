{
 "cells": [
  {
   "cell_type": "code",
   "execution_count": 1,
   "metadata": {},
   "outputs": [
    {
     "name": "stdout",
     "output_type": "stream",
     "text": [
      "Classes: \n",
      "{'Ford_explorer': 0, 'Nissan_altima': 1, 'honda_civic': 2}\n",
      "\n"
     ]
    }
   ],
   "source": [
    "from dataset import torch, os, LocalDataset, transforms, np, get_class, num_classes, preprocessing, Image, m, s\n",
    "from config import *\n",
    "\n",
    "from torch import nn\n",
    "from torch.optim import SGD\n",
    "from torch.autograd import Variable\n",
    "from torch.utils.data import DataLoader\n",
    "from torchvision.models import resnet, vgg\n",
    "\n",
    "from sklearn.metrics import accuracy_score\n",
    "from sklearn.metrics import confusion_matrix\n",
    "from sklearn.metrics import f1_score\n",
    "\n",
    "from matplotlib import pyplot as plt\n",
    "from numpy import unravel_index\n",
    "import gc\n",
    "import argparse\n"
   ]
  },
  {
   "cell_type": "code",
   "execution_count": 2,
   "metadata": {},
   "outputs": [],
   "source": [
    "mean=m\n",
    "std_dev=s\n",
    "\n",
    "transform = transforms.Compose([transforms.Resize((224,224)),\n",
    "                                    transforms.ToTensor(),\n",
    "                                    transforms.Normalize(mean, std_dev)])"
   ]
  },
  {
   "cell_type": "code",
   "execution_count": 3,
   "metadata": {},
   "outputs": [
    {
     "name": "stdout",
     "output_type": "stream",
     "text": [
      "results/resnet152/resnet152.pt\n"
     ]
    },
    {
     "data": {
      "text/plain": [
       "<All keys matched successfully>"
      ]
     },
     "execution_count": 3,
     "metadata": {},
     "output_type": "execute_result"
    }
   ],
   "source": [
    "classes = {\"num_classes\": len(num_classes)}\n",
    "resnet152_model = resnet.resnet152(pretrained=False, **classes)\n",
    "model_name=\"resnet152\"\n",
    "model=resnet152_model\n",
    "\n",
    "print (str(RESULTS_PATH) + \"/\" + str(model_name) + \"/\" + str(model_name) + \".pt\")\n",
    "model.load_state_dict(torch.load(str(RESULTS_PATH) + \"/\" + str(model_name) + \"/\" + str(model_name) + \".pt\"))"
   ]
  },
  {
   "cell_type": "code",
   "execution_count": 4,
   "metadata": {},
   "outputs": [],
   "source": [
    "def test_sample(image_path, model=model, model_name=model_name):\n",
    "    im = Image.open(image_path).convert(\"RGB\")\n",
    "    im = transform(im)\n",
    "    cuda_available = torch.cuda.is_available()\n",
    "\n",
    "    if USE_CUDA and cuda_available:\n",
    "        model = model.cuda()\n",
    "    model.eval()\n",
    "\n",
    "    x = Variable(im.unsqueeze(0))\n",
    "\n",
    "    if USE_CUDA and cuda_available:\n",
    "        x = x.cuda()\n",
    "        pred = model(x).data.cuda().cpu().numpy().copy()\n",
    "    else:\n",
    "        pred = model(x).data.numpy().copy()\n",
    "\n",
    "    #print (pred)\n",
    "\n",
    "    idx_max_pred = np.argmax(pred)\n",
    "    idx_classes = idx_max_pred % classes[\"num_classes\"]\n",
    "    #print(get_class(idx_classes))\n",
    "    return get_class(idx_classes)"
   ]
  },
  {
   "cell_type": "markdown",
   "metadata": {},
   "source": [
    "Скачаем 5 картинок из выдачи Яндекса по запросу Ford Explorer и проверим на них работу нашей модели."
   ]
  },
  {
   "cell_type": "code",
   "execution_count": 5,
   "metadata": {},
   "outputs": [
    {
     "name": "stdout",
     "output_type": "stream",
     "text": [
      "Ford_explorer\n",
      "Ford_explorer\n",
      "Ford_explorer\n",
      "Ford_explorer\n",
      "Ford_explorer\n"
     ]
    }
   ],
   "source": [
    "print(test_sample(\"web_images/ford_explorer_1.jpg\"))\n",
    "print(test_sample(\"web_images/ford_explorer_2.jpg\"))\n",
    "print(test_sample(\"web_images/ford_explorer_3.jpg\"))\n",
    "print(test_sample(\"web_images/ford_explorer_4.jpg\"))\n",
    "print(test_sample(\"web_images/ford_explorer_5.jpg\"))"
   ]
  },
  {
   "cell_type": "markdown",
   "metadata": {},
   "source": [
    "То же самое проделаем для Honda Civic и Nissan Altima"
   ]
  },
  {
   "cell_type": "code",
   "execution_count": 6,
   "metadata": {},
   "outputs": [
    {
     "name": "stdout",
     "output_type": "stream",
     "text": [
      "honda_civic\n",
      "honda_civic\n",
      "honda_civic\n",
      "honda_civic\n",
      "honda_civic\n"
     ]
    }
   ],
   "source": [
    "print(test_sample(\"web_images/honda_civic_1.jpg\"))\n",
    "print(test_sample(\"web_images/honda_civic_2.jpeg\"))\n",
    "print(test_sample(\"web_images/honda_civic_3.jpg\"))\n",
    "print(test_sample(\"web_images/honda_civic_4.jpeg\"))\n",
    "print(test_sample(\"web_images/honda_civic_5.jpg\"))"
   ]
  },
  {
   "cell_type": "code",
   "execution_count": 10,
   "metadata": {},
   "outputs": [
    {
     "name": "stdout",
     "output_type": "stream",
     "text": [
      "Nissan_altima\n",
      "Nissan_altima\n",
      "Nissan_altima\n",
      "Nissan_altima\n",
      "Nissan_altima\n"
     ]
    }
   ],
   "source": [
    "print(test_sample(\"web_images/nissan_altima_1.jpg\"))\n",
    "print(test_sample(\"web_images/nissan_altima_2.jpg\"))\n",
    "print(test_sample(\"web_images/nissan_altima_3.jpg\"))\n",
    "print(test_sample(\"web_images/nissan_altima_4.jpg\"))\n",
    "print(test_sample(\"web_images/nissan_altima_5.jpeg\"))"
   ]
  }
 ],
 "metadata": {
  "kernelspec": {
   "display_name": "Python 3",
   "language": "python",
   "name": "python3"
  },
  "language_info": {
   "codemirror_mode": {
    "name": "ipython",
    "version": 3
   },
   "file_extension": ".py",
   "mimetype": "text/x-python",
   "name": "python",
   "nbconvert_exporter": "python",
   "pygments_lexer": "ipython3",
   "version": "3.6.9"
  }
 },
 "nbformat": 4,
 "nbformat_minor": 2
}
